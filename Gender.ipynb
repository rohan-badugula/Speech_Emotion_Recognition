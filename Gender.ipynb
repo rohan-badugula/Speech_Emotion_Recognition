{
 "cells": [
  {
   "cell_type": "code",
   "execution_count": null,
   "metadata": {},
   "outputs": [],
   "source": [
    "import glob\n",
    "import os\n",
    "import pandas as pd\n",
    "import numpy as np\n",
    "import shutil\n",
    "import librosa\n",
    "from tqdm import tqdm"
   ]
  },
  {
   "cell_type": "code",
   "execution_count": null,
   "metadata": {},
   "outputs": [],
   "source": [
    "def extract_feature(file_name, **kwargs):\n",
    "    mfcc = kwargs.get(\"mfcc\")\n",
    "    chroma = kwargs.get(\"chroma\")\n",
    "    mel = kwargs.get(\"mel\")\n",
    "    contrast = kwargs.get(\"contrast\")\n",
    "    tonnetz = kwargs.get(\"tonnetz\")\n",
    "    X, sample_rate = librosa.core.load(file_name)\n",
    "    if chroma or contrast:\n",
    "        stft = np.abs(librosa.stft(X))\n",
    "    result = np.array([])\n",
    "    if mfcc:\n",
    "        mfccs = np.mean(librosa.feature.mfcc(y=X, sr=sample_rate, n_mfcc=40).T, axis=0)\n",
    "        result = np.hstack((result, mfccs))\n",
    "    if chroma:\n",
    "        chroma = np.mean(librosa.feature.chroma_stft(S=stft, sr=sample_rate).T,axis=0)\n",
    "        result = np.hstack((result, chroma))\n",
    "    if mel:\n",
    "        mel = np.mean(librosa.feature.melspectrogram(X, sr=sample_rate).T,axis=0)\n",
    "        result = np.hstack((result, mel))\n",
    "    if contrast:\n",
    "        contrast = np.mean(librosa.feature.spectral_contrast(S=stft, sr=sample_rate).T,axis=0)\n",
    "        result = np.hstack((result, contrast))\n",
    "    if tonnetz:\n",
    "        tonnetz = np.mean(librosa.feature.tonnetz(y=librosa.effects.harmonic(X), sr=sample_rate).T,axis=0)\n",
    "        result = np.hstack((result, tonnetz))\n",
    "    return result"
   ]
  },
  {
   "cell_type": "code",
   "execution_count": null,
   "metadata": {},
   "outputs": [],
   "source": [
    "dirname = \"data\"\n",
    "\n",
    "if not os.path.isdir(dirname):\n",
    "    os.mkdir(dirname)\n",
    "\n",
    "\n",
    "csv_files = glob.glob(\"*.csv\")\n",
    "\n",
    "for j, csv_file in enumerate(csv_files):\n",
    "    print(\"[+] Preprocessing\", csv_file)\n",
    "    df = pd.read_csv(csv_file)\n",
    "    # only take filename and gender columns\n",
    "    new_df = df[[\"filename\", \"gender\"]]\n",
    "    print(\"Previously:\", len(new_df), \"rows\")\n",
    "    # take only male & female genders (i.e droping NaNs & 'other' gender)\n",
    "    new_df = new_df[np.logical_or(new_df['gender'] == 'female', new_df['gender'] == 'male')]\n",
    "    print(\"Now:\", len(new_df), \"rows\")\n",
    "    new_csv_file = os.path.join(dirname, csv_file)\n",
    "    # save new preprocessed CSV \n",
    "    new_df.to_csv(new_csv_file, index=False)\n",
    "    # get the folder name\n",
    "    folder_name, _ = csv_file.split(\".\")\n",
    "    audio_files = glob.glob(f\"{folder_name}/{folder_name}/*\")\n",
    "    all_audio_filenames = set(new_df[\"filename\"])\n",
    "    for i, audio_file in tqdm(list(enumerate(audio_files)), f\"Extracting features of {folder_name}\"):\n",
    "        splited = os.path.split(audio_file)\n",
    "        # audio_filename = os.path.join(os.path.split(splited[0])[-1], splited[-1])\n",
    "        audio_filename = f\"{os.path.split(splited[0])[-1]}/{splited[-1]}\"\n",
    "        # print(\"audio_filename:\", audio_filename)\n",
    "        if audio_filename in all_audio_filenames:\n",
    "            # print(\"Copyying\", audio_filename, \"...\")\n",
    "            src_path = f\"{folder_name}/{audio_filename}\"\n",
    "            target_path = f\"{dirname}/{audio_filename}\"\n",
    "            #create that folder if it doesn't exist\n",
    "            if not os.path.isdir(os.path.dirname(target_path)):\n",
    "                os.mkdir(os.path.dirname(target_path))\n",
    "            features = extract_feature(src_path, mel=True)\n",
    "            target_filename = target_path.split(\".\")[0]\n",
    "            np.save(target_filename, features)\n",
    "            # shutil.copyfile(src_path, target_path)"
   ]
  },
  {
   "cell_type": "code",
   "execution_count": 1,
   "metadata": {},
   "outputs": [],
   "source": [
    "import pandas as pd\n",
    "import numpy as np\n",
    "import os\n",
    "import tqdm\n",
    "from tensorflow.keras.models import Sequential\n",
    "from tensorflow.keras.layers import Dense, LSTM, Dropout\n",
    "from tensorflow.keras.callbacks import ModelCheckpoint, TensorBoard, EarlyStopping\n",
    "from sklearn.model_selection import train_test_split"
   ]
  },
  {
   "cell_type": "code",
   "execution_count": 2,
   "metadata": {},
   "outputs": [
    {
     "data": {
      "text/html": [
       "<div>\n",
       "<style scoped>\n",
       "    .dataframe tbody tr th:only-of-type {\n",
       "        vertical-align: middle;\n",
       "    }\n",
       "\n",
       "    .dataframe tbody tr th {\n",
       "        vertical-align: top;\n",
       "    }\n",
       "\n",
       "    .dataframe thead th {\n",
       "        text-align: right;\n",
       "    }\n",
       "</style>\n",
       "<table border=\"1\" class=\"dataframe\">\n",
       "  <thead>\n",
       "    <tr style=\"text-align: right;\">\n",
       "      <th></th>\n",
       "      <th>filename</th>\n",
       "      <th>gender</th>\n",
       "    </tr>\n",
       "  </thead>\n",
       "  <tbody>\n",
       "    <tr>\n",
       "      <th>0</th>\n",
       "      <td>data/cv-other-train/sample-069205.npy</td>\n",
       "      <td>female</td>\n",
       "    </tr>\n",
       "    <tr>\n",
       "      <th>1</th>\n",
       "      <td>data/cv-valid-train/sample-063134.npy</td>\n",
       "      <td>female</td>\n",
       "    </tr>\n",
       "    <tr>\n",
       "      <th>2</th>\n",
       "      <td>data/cv-other-train/sample-080873.npy</td>\n",
       "      <td>female</td>\n",
       "    </tr>\n",
       "    <tr>\n",
       "      <th>3</th>\n",
       "      <td>data/cv-other-train/sample-105595.npy</td>\n",
       "      <td>female</td>\n",
       "    </tr>\n",
       "    <tr>\n",
       "      <th>4</th>\n",
       "      <td>data/cv-valid-train/sample-144613.npy</td>\n",
       "      <td>female</td>\n",
       "    </tr>\n",
       "  </tbody>\n",
       "</table>\n",
       "</div>"
      ],
      "text/plain": [
       "                                filename  gender\n",
       "0  data/cv-other-train/sample-069205.npy  female\n",
       "1  data/cv-valid-train/sample-063134.npy  female\n",
       "2  data/cv-other-train/sample-080873.npy  female\n",
       "3  data/cv-other-train/sample-105595.npy  female\n",
       "4  data/cv-valid-train/sample-144613.npy  female"
      ]
     },
     "execution_count": 2,
     "metadata": {},
     "output_type": "execute_result"
    }
   ],
   "source": [
    "df = pd.read_csv(\"balanced-all.csv\")\n",
    "df.head()"
   ]
  },
  {
   "cell_type": "code",
   "execution_count": 3,
   "metadata": {},
   "outputs": [
    {
     "data": {
      "text/html": [
       "<div>\n",
       "<style scoped>\n",
       "    .dataframe tbody tr th:only-of-type {\n",
       "        vertical-align: middle;\n",
       "    }\n",
       "\n",
       "    .dataframe tbody tr th {\n",
       "        vertical-align: top;\n",
       "    }\n",
       "\n",
       "    .dataframe thead th {\n",
       "        text-align: right;\n",
       "    }\n",
       "</style>\n",
       "<table border=\"1\" class=\"dataframe\">\n",
       "  <thead>\n",
       "    <tr style=\"text-align: right;\">\n",
       "      <th></th>\n",
       "      <th>filename</th>\n",
       "      <th>gender</th>\n",
       "    </tr>\n",
       "  </thead>\n",
       "  <tbody>\n",
       "    <tr>\n",
       "      <th>66933</th>\n",
       "      <td>data/cv-valid-train/sample-171098.npy</td>\n",
       "      <td>male</td>\n",
       "    </tr>\n",
       "    <tr>\n",
       "      <th>66934</th>\n",
       "      <td>data/cv-other-train/sample-022864.npy</td>\n",
       "      <td>male</td>\n",
       "    </tr>\n",
       "    <tr>\n",
       "      <th>66935</th>\n",
       "      <td>data/cv-valid-train/sample-080933.npy</td>\n",
       "      <td>male</td>\n",
       "    </tr>\n",
       "    <tr>\n",
       "      <th>66936</th>\n",
       "      <td>data/cv-other-train/sample-012026.npy</td>\n",
       "      <td>male</td>\n",
       "    </tr>\n",
       "    <tr>\n",
       "      <th>66937</th>\n",
       "      <td>data/cv-other-train/sample-013841.npy</td>\n",
       "      <td>male</td>\n",
       "    </tr>\n",
       "  </tbody>\n",
       "</table>\n",
       "</div>"
      ],
      "text/plain": [
       "                                    filename gender\n",
       "66933  data/cv-valid-train/sample-171098.npy   male\n",
       "66934  data/cv-other-train/sample-022864.npy   male\n",
       "66935  data/cv-valid-train/sample-080933.npy   male\n",
       "66936  data/cv-other-train/sample-012026.npy   male\n",
       "66937  data/cv-other-train/sample-013841.npy   male"
      ]
     },
     "execution_count": 3,
     "metadata": {},
     "output_type": "execute_result"
    }
   ],
   "source": [
    "df.tail()"
   ]
  },
  {
   "cell_type": "code",
   "execution_count": 4,
   "metadata": {},
   "outputs": [
    {
     "data": {
      "image/png": "[encoded data removed]",
      "text/plain": [
       "<Figure size 576x432 with 1 Axes>"
      ]
     },
     "metadata": {
      "needs_background": "light"
     },
     "output_type": "display_data"
    }
   ],
   "source": [
    "import pandas as pd\n",
    "import matplotlib.pyplot as plt\n",
    "\n",
    "# Read the CSV file into a pandas DataFrame\n",
    "# df = pd.read_csv('your_csv_file.csv')\n",
    "\n",
    "# Group the data by gender and count the occurrences\n",
    "gender_counts = df['gender'].value_counts()\n",
    "\n",
    "# Plotting the bar plot with labels\n",
    "plt.figure(figsize=(8, 6))\n",
    "plt.bar(gender_counts.index, gender_counts.values)\n",
    "plt.title('Gender Distribution')\n",
    "plt.xlabel('Gender')\n",
    "plt.ylabel('Count')\n",
    "\n",
    "# Adding labels to the bars\n",
    "for i, count in enumerate(gender_counts.values):\n",
    "    plt.text(i, count + 10, str(count), ha='center', fontsize=12)\n",
    "    plt.text(i, -70, f\"({count})\", ha='center', fontsize=12, color='gray')\n",
    "\n",
    "plt.show()\n"
   ]
  },
  {
   "cell_type": "code",
   "execution_count": 5,
   "metadata": {},
   "outputs": [
    {
     "name": "stdout",
     "output_type": "stream",
     "text": [
      "Total samples: 66938\n",
      "Total male samples: 33469\n",
      "Total female samples: 33469\n"
     ]
    }
   ],
   "source": [
    "# get total samples\n",
    "n_samples = len(df)\n",
    "# get total male samples\n",
    "n_male_samples = len(df[df['gender'] == 'male'])\n",
    "# get total female samples\n",
    "n_female_samples = len(df[df['gender'] == 'female'])\n",
    "print(\"Total samples:\", n_samples)\n",
    "print(\"Total male samples:\", n_male_samples)\n",
    "print(\"Total female samples:\", n_female_samples)"
   ]
  },
  {
   "cell_type": "code",
   "execution_count": 6,
   "metadata": {},
   "outputs": [],
   "source": [
    "label2int = {\n",
    "    \"male\": 1,\n",
    "    \"female\": 0\n",
    "}\n",
    "\n",
    "def load_data(vector_length=128):\n",
    "    \"\"\"A function to load gender recognition dataset from `data` folder\n",
    "    After the second run, this will load from results/features.npy and results/labels.npy files\n",
    "    as it is much faster!\"\"\"\n",
    "    # make sure results folder exists\n",
    "    if not os.path.isdir(\"results\"):\n",
    "        os.mkdir(\"results\")\n",
    "    # if features & labels already loaded individually and bundled, load them from there instead\n",
    "    if os.path.isfile(\"results/features.npy\") and os.path.isfile(\"results/labels.npy\"):\n",
    "        X = np.load(\"results/features.npy\")\n",
    "        y = np.load(\"results/labels.npy\")\n",
    "        return X, y\n",
    "    # read dataframe\n",
    "    df = pd.read_csv(\"balanced-all.csv\")\n",
    "    # get total samples\n",
    "    n_samples = len(df)\n",
    "    # get total male samples\n",
    "    n_male_samples = len(df[df['gender'] == 'male'])\n",
    "    # get total female samples\n",
    "    n_female_samples = len(df[df['gender'] == 'female'])\n",
    "    print(\"Total samples:\", n_samples)\n",
    "    print(\"Total male samples:\", n_male_samples)\n",
    "    print(\"Total female samples:\", n_female_samples)\n",
    "    # initialize an empty array for all audio features\n",
    "    X = np.zeros((n_samples, vector_length))\n",
    "    # initialize an empty array for all audio labels (1 for male and 0 for female)\n",
    "    y = np.zeros((n_samples, 1))\n",
    "    for i, (filename, gender) in tqdm.tqdm(enumerate(zip(df['filename'], df['gender'])), \"Loading data\", total=n_samples):\n",
    "        features = np.load(filename)\n",
    "        X[i] = features\n",
    "        y[i] = label2int[gender]\n",
    "    # save the audio features and labels into files\n",
    "    # so we won't load each one of them next run\n",
    "    np.save(\"results/features\", X)\n",
    "    np.save(\"results/labels\", y)\n",
    "    return X, y"
   ]
  },
  {
   "cell_type": "code",
   "execution_count": 7,
   "metadata": {},
   "outputs": [],
   "source": [
    "def split_data(X, y, test_size=0.1, valid_size=0.1):\n",
    "    # split training set and testing set\n",
    "    X_train, X_test, y_train, y_test = train_test_split(X, y, test_size=test_size, random_state=7)\n",
    "    # split training set and validation set\n",
    "    X_train, X_valid, y_train, y_valid = train_test_split(X_train, y_train, test_size=valid_size, random_state=7)\n",
    "    # return a dictionary of values\n",
    "    return {\n",
    "        \"X_train\": X_train,\n",
    "        \"X_valid\": X_valid,\n",
    "        \"X_test\": X_test,\n",
    "        \"y_train\": y_train,\n",
    "        \"y_valid\": y_valid,\n",
    "        \"y_test\": y_test\n",
    "    }"
   ]
  },
  {
   "cell_type": "code",
   "execution_count": 8,
   "metadata": {},
   "outputs": [],
   "source": [
    "# load the dataset\n",
    "X, y = load_data()\n",
    "# split the data into training, validation and testing sets\n",
    "data = split_data(X, y, test_size=0.1, valid_size=0.1)"
   ]
  },
  {
   "cell_type": "code",
   "execution_count": 9,
   "metadata": {},
   "outputs": [
    {
     "data": {
      "text/plain": [
       "66938"
      ]
     },
     "execution_count": 9,
     "metadata": {},
     "output_type": "execute_result"
    }
   ],
   "source": [
    "len(X)"
   ]
  },
  {
   "cell_type": "code",
   "execution_count": 10,
   "metadata": {},
   "outputs": [],
   "source": [
    "def create_model(vector_length=128):\n",
    "    \n",
    "    model = Sequential()\n",
    "    model.add(Dense(256, input_shape=(vector_length,)))\n",
    "    model.add(Dropout(0.3))\n",
    "    model.add(Dense(256, activation=\"relu\"))\n",
    "    model.add(Dropout(0.3))\n",
    "    model.add(Dense(128, activation=\"relu\"))\n",
    "    model.add(Dropout(0.3))\n",
    "    model.add(Dense(128, activation=\"relu\"))\n",
    "    model.add(Dropout(0.3))\n",
    "    model.add(Dense(64, activation=\"relu\"))\n",
    "    model.add(Dropout(0.3))\n",
    "    # one output neuron with sigmoid activation function, 0 means female, 1 means male\n",
    "    model.add(Dense(1, activation=\"sigmoid\"))\n",
    "    # using binary crossentropy as it's male/female classification (binary)\n",
    "    model.compile(loss=\"binary_crossentropy\", metrics=[\"accuracy\"], optimizer=\"adam\")\n",
    "    # print summary of the model\n",
    "    model.summary()\n",
    "    return model"
   ]
  },
  {
   "cell_type": "code",
   "execution_count": 11,
   "metadata": {},
   "outputs": [
    {
     "name": "stdout",
     "output_type": "stream",
     "text": [
      "Model: \"sequential\"\n",
      "_________________________________________________________________\n",
      " Layer (type)                Output Shape              Param #   \n",
      "=================================================================\n",
      " dense (Dense)               (None, 256)               33024     \n",
      "                                                                 \n",
      " dropout (Dropout)           (None, 256)               0         \n",
      "                                                                 \n",
      " dense_1 (Dense)             (None, 256)               65792     \n",
      "                                                                 \n",
      " dropout_1 (Dropout)         (None, 256)               0         \n",
      "                                                                 \n",
      " dense_2 (Dense)             (None, 128)               32896     \n",
      "                                                                 \n",
      " dropout_2 (Dropout)         (None, 128)               0         \n",
      "                                                                 \n",
      " dense_3 (Dense)             (None, 128)               16512     \n",
      "                                                                 \n",
      " dropout_3 (Dropout)         (None, 128)               0         \n",
      "                                                                 \n",
      " dense_4 (Dense)             (None, 64)                8256      \n",
      "                                                                 \n",
      " dropout_4 (Dropout)         (None, 64)                0         \n",
      "                                                                 \n",
      " dense_5 (Dense)             (None, 1)                 65        \n",
      "                                                                 \n",
      "=================================================================\n",
      "Total params: 156,545\n",
      "Trainable params: 156,545\n",
      "Non-trainable params: 0\n",
      "_________________________________________________________________\n"
     ]
    }
   ],
   "source": [
    "# construct the model\n",
    "model = create_model()"
   ]
  },
  {
   "cell_type": "code",
   "execution_count": 12,
   "metadata": {},
   "outputs": [
    {
     "name": "stdout",
     "output_type": "stream",
     "text": [
      "54219\n",
      "54219\n"
     ]
    }
   ],
   "source": [
    "\n",
    "print(len(data['X_train']))\n",
    "print(len(data['y_train'])) "
   ]
  },
  {
   "cell_type": "code",
   "execution_count": 13,
   "metadata": {},
   "outputs": [
    {
     "name": "stdout",
     "output_type": "stream",
     "text": [
      "Epoch 1/100\n",
      "848/848 [==============================] - 22s 18ms/step - loss: 0.5591 - accuracy: 0.7660 - val_loss: 0.3969 - val_accuracy: 0.8423\n",
      "Epoch 2/100\n",
      "848/848 [==============================] - 16s 19ms/step - loss: 0.4165 - accuracy: 0.8335 - val_loss: 0.3412 - val_accuracy: 0.8669\n",
      "Epoch 3/100\n",
      "848/848 [==============================] - 23s 27ms/step - loss: 0.3809 - accuracy: 0.8507 - val_loss: 0.3257 - val_accuracy: 0.8662\n",
      "Epoch 4/100\n",
      "848/848 [==============================] - 16s 18ms/step - loss: 0.3673 - accuracy: 0.8589 - val_loss: 0.2995 - val_accuracy: 0.8783\n",
      "Epoch 5/100\n",
      "848/848 [==============================] - 14s 17ms/step - loss: 0.3440 - accuracy: 0.8668 - val_loss: 0.3134 - val_accuracy: 0.8754\n",
      "Epoch 6/100\n",
      "848/848 [==============================] - 13s 15ms/step - loss: 0.3371 - accuracy: 0.8715 - val_loss: 0.2809 - val_accuracy: 0.8911\n",
      "Epoch 7/100\n",
      "848/848 [==============================] - 13s 15ms/step - loss: 0.3278 - accuracy: 0.8750 - val_loss: 0.2754 - val_accuracy: 0.8931\n",
      "Epoch 8/100\n",
      "848/848 [==============================] - 14s 16ms/step - loss: 0.3202 - accuracy: 0.8782 - val_loss: 0.2768 - val_accuracy: 0.8929\n",
      "Epoch 9/100\n",
      "848/848 [==============================] - 13s 16ms/step - loss: 0.3120 - accuracy: 0.8814 - val_loss: 0.2712 - val_accuracy: 0.8923\n",
      "Epoch 10/100\n",
      "848/848 [==============================] - 13s 16ms/step - loss: 0.3088 - accuracy: 0.8850 - val_loss: 0.2691 - val_accuracy: 0.8978\n",
      "Epoch 11/100\n",
      "848/848 [==============================] - 13s 15ms/step - loss: 0.3026 - accuracy: 0.8851 - val_loss: 0.2526 - val_accuracy: 0.9009\n",
      "Epoch 12/100\n",
      "848/848 [==============================] - 11s 14ms/step - loss: 0.2962 - accuracy: 0.8861 - val_loss: 0.2511 - val_accuracy: 0.9056\n",
      "Epoch 13/100\n",
      "848/848 [==============================] - 11s 13ms/step - loss: 0.2923 - accuracy: 0.8901 - val_loss: 0.2582 - val_accuracy: 0.9066\n",
      "Epoch 14/100\n",
      "848/848 [==============================] - 15s 17ms/step - loss: 0.2878 - accuracy: 0.8915 - val_loss: 0.2455 - val_accuracy: 0.9087\n",
      "Epoch 15/100\n",
      "848/848 [==============================] - 18s 21ms/step - loss: 0.2854 - accuracy: 0.8917 - val_loss: 0.2568 - val_accuracy: 0.9089\n",
      "Epoch 16/100\n",
      "848/848 [==============================] - 17s 21ms/step - loss: 0.2877 - accuracy: 0.8928 - val_loss: 0.2584 - val_accuracy: 0.9112\n",
      "Epoch 17/100\n",
      "848/848 [==============================] - 16s 19ms/step - loss: 0.2840 - accuracy: 0.8935 - val_loss: 0.2437 - val_accuracy: 0.9079\n",
      "Epoch 18/100\n",
      "848/848 [==============================] - 16s 19ms/step - loss: 0.2766 - accuracy: 0.8959 - val_loss: 0.2407 - val_accuracy: 0.9087\n",
      "Epoch 19/100\n",
      "848/848 [==============================] - 17s 20ms/step - loss: 0.2818 - accuracy: 0.8957 - val_loss: 0.2489 - val_accuracy: 0.9095\n",
      "Epoch 20/100\n",
      "848/848 [==============================] - 16s 19ms/step - loss: 0.2744 - accuracy: 0.8972 - val_loss: 0.2457 - val_accuracy: 0.9064\n",
      "Epoch 21/100\n",
      "848/848 [==============================] - 16s 19ms/step - loss: 0.2743 - accuracy: 0.8965 - val_loss: 0.2453 - val_accuracy: 0.9092\n",
      "Epoch 22/100\n",
      "848/848 [==============================] - 15s 18ms/step - loss: 0.2823 - accuracy: 0.8975 - val_loss: 0.2369 - val_accuracy: 0.9115\n",
      "Epoch 23/100\n",
      "848/848 [==============================] - 15s 17ms/step - loss: 0.2705 - accuracy: 0.8961 - val_loss: 0.2335 - val_accuracy: 0.9137\n",
      "Epoch 24/100\n",
      "848/848 [==============================] - 14s 17ms/step - loss: 0.2691 - accuracy: 0.9000 - val_loss: 0.2386 - val_accuracy: 0.9130\n",
      "Epoch 25/100\n",
      "848/848 [==============================] - 11s 13ms/step - loss: 0.2660 - accuracy: 0.9012 - val_loss: 0.2297 - val_accuracy: 0.9154\n",
      "Epoch 26/100\n",
      "848/848 [==============================] - 11s 13ms/step - loss: 0.2652 - accuracy: 0.9010 - val_loss: 0.2351 - val_accuracy: 0.9122\n",
      "Epoch 27/100\n",
      "848/848 [==============================] - 11s 13ms/step - loss: 0.2707 - accuracy: 0.9000 - val_loss: 0.2287 - val_accuracy: 0.9167\n",
      "Epoch 28/100\n",
      "848/848 [==============================] - 12s 14ms/step - loss: 0.2670 - accuracy: 0.9008 - val_loss: 0.2320 - val_accuracy: 0.9167\n",
      "Epoch 29/100\n",
      "848/848 [==============================] - 11s 13ms/step - loss: 0.2647 - accuracy: 0.9031 - val_loss: 0.2318 - val_accuracy: 0.9132\n",
      "Epoch 30/100\n",
      "848/848 [==============================] - 12s 14ms/step - loss: 0.2680 - accuracy: 0.9006 - val_loss: 0.2285 - val_accuracy: 0.9154\n",
      "Epoch 31/100\n",
      "848/848 [==============================] - 16s 19ms/step - loss: 0.2627 - accuracy: 0.9008 - val_loss: 0.2261 - val_accuracy: 0.9160\n",
      "Epoch 32/100\n",
      "848/848 [==============================] - 21s 24ms/step - loss: 0.2608 - accuracy: 0.9039 - val_loss: 0.2248 - val_accuracy: 0.9198\n",
      "Epoch 33/100\n",
      "848/848 [==============================] - 21s 24ms/step - loss: 0.2622 - accuracy: 0.9036 - val_loss: 0.2429 - val_accuracy: 0.9085\n",
      "Epoch 34/100\n",
      "848/848 [==============================] - 18s 21ms/step - loss: 0.2581 - accuracy: 0.9044 - val_loss: 0.2336 - val_accuracy: 0.9142\n",
      "Epoch 35/100\n",
      "848/848 [==============================] - 19s 22ms/step - loss: 0.2582 - accuracy: 0.9037 - val_loss: 0.2264 - val_accuracy: 0.9175\n",
      "Epoch 36/100\n",
      "848/848 [==============================] - 17s 21ms/step - loss: 0.2537 - accuracy: 0.9065 - val_loss: 0.2288 - val_accuracy: 0.9203\n",
      "Epoch 37/100\n",
      "848/848 [==============================] - 17s 20ms/step - loss: 0.2560 - accuracy: 0.9066 - val_loss: 0.2301 - val_accuracy: 0.9157\n",
      "Epoch 38/100\n",
      "848/848 [==============================] - 17s 20ms/step - loss: 0.2576 - accuracy: 0.9053 - val_loss: 0.2192 - val_accuracy: 0.9178\n",
      "Epoch 39/100\n",
      "848/848 [==============================] - 18s 21ms/step - loss: 0.2537 - accuracy: 0.9063 - val_loss: 0.2192 - val_accuracy: 0.9188\n",
      "Epoch 40/100\n",
      "848/848 [==============================] - 17s 21ms/step - loss: 0.2571 - accuracy: 0.9044 - val_loss: 0.2255 - val_accuracy: 0.9163\n",
      "Epoch 41/100\n",
      "848/848 [==============================] - 18s 21ms/step - loss: 0.2554 - accuracy: 0.9055 - val_loss: 0.2232 - val_accuracy: 0.9200\n",
      "Epoch 42/100\n",
      "848/848 [==============================] - 19s 22ms/step - loss: 0.2546 - accuracy: 0.9067 - val_loss: 0.2395 - val_accuracy: 0.9074\n",
      "Epoch 43/100\n",
      "848/848 [==============================] - 17s 21ms/step - loss: 0.2529 - accuracy: 0.9059 - val_loss: 0.2317 - val_accuracy: 0.9110\n",
      "Epoch 44/100\n",
      "848/848 [==============================] - 18s 22ms/step - loss: 0.2538 - accuracy: 0.9064 - val_loss: 0.2259 - val_accuracy: 0.9175\n",
      "Epoch 45/100\n",
      "848/848 [==============================] - 20s 24ms/step - loss: 0.2521 - accuracy: 0.9061 - val_loss: 0.2351 - val_accuracy: 0.9157\n",
      "Epoch 46/100\n",
      "848/848 [==============================] - 19s 23ms/step - loss: 0.2553 - accuracy: 0.9066 - val_loss: 0.2387 - val_accuracy: 0.9100\n",
      "Epoch 47/100\n",
      "848/848 [==============================] - 15s 18ms/step - loss: 0.2505 - accuracy: 0.9095 - val_loss: 0.2179 - val_accuracy: 0.9198\n",
      "Epoch 48/100\n",
      "848/848 [==============================] - 12s 15ms/step - loss: 0.2521 - accuracy: 0.9077 - val_loss: 0.2267 - val_accuracy: 0.9195\n",
      "Epoch 49/100\n",
      "848/848 [==============================] - 13s 15ms/step - loss: 0.2491 - accuracy: 0.9077 - val_loss: 0.2224 - val_accuracy: 0.9197\n",
      "Epoch 50/100\n",
      "848/848 [==============================] - 14s 16ms/step - loss: 0.2584 - accuracy: 0.9061 - val_loss: 0.2216 - val_accuracy: 0.9185\n",
      "Epoch 51/100\n",
      "848/848 [==============================] - 13s 15ms/step - loss: 0.2507 - accuracy: 0.9075 - val_loss: 0.2156 - val_accuracy: 0.9213\n",
      "Epoch 52/100\n",
      "848/848 [==============================] - 13s 15ms/step - loss: 0.2486 - accuracy: 0.9086 - val_loss: 0.2230 - val_accuracy: 0.9198\n",
      "Epoch 53/100\n",
      "848/848 [==============================] - 15s 17ms/step - loss: 0.2531 - accuracy: 0.9082 - val_loss: 0.2196 - val_accuracy: 0.9195\n",
      "Epoch 54/100\n",
      "848/848 [==============================] - 13s 15ms/step - loss: 0.2496 - accuracy: 0.9092 - val_loss: 0.2301 - val_accuracy: 0.9182\n",
      "Epoch 55/100\n",
      "848/848 [==============================] - 14s 17ms/step - loss: 0.2502 - accuracy: 0.9089 - val_loss: 0.2238 - val_accuracy: 0.9155\n",
      "Epoch 56/100\n",
      "848/848 [==============================] - 14s 17ms/step - loss: 0.2498 - accuracy: 0.9107 - val_loss: 0.2301 - val_accuracy: 0.9129\n",
      "Epoch 57/100\n",
      "848/848 [==============================] - 12s 15ms/step - loss: 0.2454 - accuracy: 0.9098 - val_loss: 0.2198 - val_accuracy: 0.9198\n",
      "Epoch 58/100\n",
      "848/848 [==============================] - 12s 14ms/step - loss: 0.2461 - accuracy: 0.9088 - val_loss: 0.2230 - val_accuracy: 0.9172\n",
      "Epoch 59/100\n",
      "848/848 [==============================] - 12s 14ms/step - loss: 0.2465 - accuracy: 0.9104 - val_loss: 0.2180 - val_accuracy: 0.9197\n",
      "Epoch 60/100\n",
      "848/848 [==============================] - 12s 15ms/step - loss: 0.2468 - accuracy: 0.9103 - val_loss: 0.2223 - val_accuracy: 0.9210\n",
      "Epoch 61/100\n",
      "848/848 [==============================] - 13s 15ms/step - loss: 0.2480 - accuracy: 0.9102 - val_loss: 0.2245 - val_accuracy: 0.9165\n"
     ]
    }
   ],
   "source": [
    "# define early stopping to stop training after 5 epochs of not improving\n",
    "early_stopping = EarlyStopping(mode=\"min\", patience=10, restore_best_weights=True)\n",
    "\n",
    "batch_size = 64\n",
    "epochs = 100        \n",
    "# train the model using the training set and validating using validation set\n",
    "history = model.fit(data[\"X_train\"], data[\"y_train\"], epochs=epochs, batch_size=batch_size, validation_data=(data[\"X_valid\"], data[\"y_valid\"]),callbacks=[early_stopping])\n"
   ]
  },
  {
   "cell_type": "code",
   "execution_count": 14,
   "metadata": {},
   "outputs": [
    {
     "data": {
      "image/png": "[encoded data removed]",
      "text/plain": [
       "<Figure size 576x432 with 1 Axes>"
      ]
     },
     "metadata": {
      "needs_background": "light"
     },
     "output_type": "display_data"
    },
    {
     "data": {
      "image/png": "[encoded data removed]",
      "text/plain": [
       "<Figure size 576x432 with 1 Axes>"
      ]
     },
     "metadata": {
      "needs_background": "light"
     },
     "output_type": "display_data"
    },
    {
     "name": "stdout",
     "output_type": "stream",
     "text": [
      "Training Loss: 0.2480\n",
      "Training Accuracy: 91.02%\n",
      "Validation Loss: 0.2245\n",
      "Validation Accuracy: 91.65%\n"
     ]
    }
   ],
   "source": [
    "# Plotting training and validation accuracy\n",
    "plt.figure(figsize=(8, 6))\n",
    "plt.plot(history.history['accuracy'], label='Training Accuracy')\n",
    "plt.plot(history.history['val_accuracy'], label='Validation Accuracy')\n",
    "plt.title('Training and Validation Accuracy')\n",
    "plt.xlabel('Epochs')\n",
    "plt.ylabel('Accuracy')\n",
    "plt.legend()\n",
    "plt.show()\n",
    "\n",
    "# Plotting training and validation loss\n",
    "plt.figure(figsize=(8, 6))\n",
    "plt.plot(history.history['loss'], label='Training Loss')\n",
    "plt.plot(history.history['val_loss'], label='Validation Loss')\n",
    "plt.title('Training and Validation Loss')\n",
    "plt.xlabel('Epochs')\n",
    "plt.ylabel('Loss')\n",
    "plt.legend()\n",
    "plt.show()\n",
    "\n",
    "# Printing training accuracy and loss\n",
    "train_loss = history.history['loss'][-1]\n",
    "train_accuracy = history.history['accuracy'][-1]\n",
    "print(f\"Training Loss: {train_loss:.4f}\")\n",
    "print(f\"Training Accuracy: {train_accuracy*100:.2f}%\")\n",
    "\n",
    "# Printing validation accuracy and loss\n",
    "val_loss = history.history['val_loss'][-1]\n",
    "val_accuracy = history.history['val_accuracy'][-1]\n",
    "print(f\"Validation Loss: {val_loss:.4f}\")\n",
    "print(f\"Validation Accuracy: {val_accuracy*100:.2f}%\")\n"
   ]
  },
  {
   "cell_type": "code",
   "execution_count": 15,
   "metadata": {},
   "outputs": [
    {
     "name": "stdout",
     "output_type": "stream",
     "text": [
      "Evaluating the model using 6694 samples...\n",
      "Loss: 0.2163\n",
      "Accuracy: 92.13%\n"
     ]
    },
    {
     "data": {
      "image/png": "[encoded data removed]",
      "text/plain": [
       "<Figure size 576x432 with 1 Axes>"
      ]
     },
     "metadata": {
      "needs_background": "light"
     },
     "output_type": "display_data"
    }
   ],
   "source": [
    "import matplotlib.pyplot as plt\n",
    "\n",
    "# evaluating the model using the testing set\n",
    "print(f\"Evaluating the model using {len(data['X_test'])} samples...\")\n",
    "loss, accuracy = model.evaluate(data[\"X_test\"], data[\"y_test\"], verbose=0)\n",
    "print(f\"Loss: {loss:.4f}\")\n",
    "print(f\"Accuracy: {accuracy*100:.2f}%\")\n",
    "\n",
    "# Bar plot for testing accuracy and loss\n",
    "metrics = ['Accuracy', 'Loss']\n",
    "values = [accuracy, loss]\n",
    "\n",
    "plt.figure(figsize=(8, 6))\n",
    "plt.bar(metrics, values)\n",
    "plt.title('Testing Accuracy and Loss')\n",
    "plt.ylabel('Value')\n",
    "\n",
    "for i, v in enumerate(values):\n",
    "    plt.text(i, v, f\"{v:.4f}\", ha='center', va='bottom')\n",
    "\n",
    "plt.show()\n"
   ]
  },
  {
   "cell_type": "code",
   "execution_count": 16,
   "metadata": {},
   "outputs": [
    {
     "name": "stdout",
     "output_type": "stream",
     "text": [
      "Model saved as JSON file.\n"
     ]
    }
   ],
   "source": [
    "import json\n",
    "\n",
    "# Convert the model to JSON string\n",
    "model_json = model.to_json()\n",
    "\n",
    "# Save the JSON string to a file\n",
    "with open(\"gender_model.json\", \"w\") as json_file:\n",
    "    json_file.write(model_json)\n",
    "\n",
    "print(\"Model saved as JSON file.\")\n"
   ]
  },
  {
   "cell_type": "code",
   "execution_count": 17,
   "metadata": {},
   "outputs": [],
   "source": [
    "model.save_weights(\"gender_model.h5\")"
   ]
  },
  {
   "cell_type": "code",
   "execution_count": 18,
   "metadata": {},
   "outputs": [
    {
     "name": "stdout",
     "output_type": "stream",
     "text": [
      "Model loaded successfully.\n"
     ]
    }
   ],
   "source": [
    "from tensorflow.keras.models import model_from_json\n",
    "\n",
    "# Load the model architecture from JSON file\n",
    "with open(\"gender_model.json\", \"r\") as json_file:\n",
    "    loaded_model_json = json_file.read()\n",
    "loaded_model = model_from_json(loaded_model_json)\n",
    "\n",
    "# Load the model weights from HDF5 file\n",
    "loaded_model.load_weights(\"gender_model.h5\")\n",
    "# Compile the loaded model\n",
    "loaded_model.compile(optimizer=\"adam\", loss=\"binary_crossentropy\", metrics=[\"accuracy\"])\n",
    "\n",
    "print(\"Model loaded successfully.\")\n"
   ]
  },
  {
   "cell_type": "code",
   "execution_count": 19,
   "metadata": {},
   "outputs": [
    {
     "name": "stdout",
     "output_type": "stream",
     "text": [
      "Evaluating the model using 6694 samples...\n",
      "Loss: 0.2163\n",
      "Accuracy: 92.13%\n"
     ]
    },
    {
     "data": {
      "image/png": "[encoded data removed]",
      "text/plain": [
       "<Figure size 576x432 with 1 Axes>"
      ]
     },
     "metadata": {
      "needs_background": "light"
     },
     "output_type": "display_data"
    }
   ],
   "source": [
    "import matplotlib.pyplot as plt\n",
    "\n",
    "# evaluating the model using the testing set\n",
    "print(f\"Evaluating the model using {len(data['X_test'])} samples...\")\n",
    "loss, accuracy = loaded_model.evaluate(data[\"X_test\"], data[\"y_test\"], verbose=0)\n",
    "print(f\"Loss: {loss:.4f}\")\n",
    "print(f\"Accuracy: {accuracy*100:.2f}%\")\n",
    "\n",
    "# Bar plot for testing accuracy and loss\n",
    "metrics = ['Accuracy', 'Loss']\n",
    "values = [accuracy, loss]\n",
    "\n",
    "plt.figure(figsize=(8, 6))\n",
    "plt.bar(metrics, values)\n",
    "plt.title('Testing Accuracy and Loss')\n",
    "plt.ylabel('Value')\n",
    "\n",
    "for i, v in enumerate(values):\n",
    "    plt.text(i, v, f\"{v:.4f}\", ha='center', va='bottom')\n",
    "\n",
    "plt.show()\n"
   ]
  },
  {
   "attachments": {},
   "cell_type": "markdown",
   "metadata": {},
   "source": [
    "# Testing with Sample Data"
   ]
  },
  {
   "cell_type": "code",
   "execution_count": null,
   "metadata": {},
   "outputs": [],
   "source": [
    "import librosa\n",
    "import numpy as np\n",
    "\n",
    "def extract_feature(file_name, **kwargs):\n",
    "    \n",
    "    mfcc = kwargs.get(\"mfcc\")\n",
    "    chroma = kwargs.get(\"chroma\")\n",
    "    mel = kwargs.get(\"mel\")\n",
    "    contrast = kwargs.get(\"contrast\")\n",
    "    tonnetz = kwargs.get(\"tonnetz\")\n",
    "    X, sample_rate = librosa.core.load(file_name)\n",
    "    if chroma or contrast:\n",
    "        stft = np.abs(librosa.stft(X))\n",
    "    result = np.array([])\n",
    "    if mfcc:\n",
    "        mfccs = np.mean(librosa.feature.mfcc(y=X, sr=sample_rate, n_mfcc=40).T, axis=0)\n",
    "        result = np.hstack((result, mfccs))\n",
    "    if chroma:\n",
    "        chroma = np.mean(librosa.feature.chroma_stft(S=stft, sr=sample_rate).T,axis=0)\n",
    "        result = np.hstack((result, chroma))\n",
    "    if mel:\n",
    "        mel = np.mean(librosa.feature.melspectrogram(X, sr=sample_rate).T,axis=0)\n",
    "        result = np.hstack((result, mel))\n",
    "    if contrast:\n",
    "        contrast = np.mean(librosa.feature.spectral_contrast(S=stft, sr=sample_rate).T,axis=0)\n",
    "        result = np.hstack((result, contrast))\n",
    "    if tonnetz:\n",
    "        tonnetz = np.mean(librosa.feature.tonnetz(y=librosa.effects.harmonic(X), sr=sample_rate).T,axis=0)\n",
    "        result = np.hstack((result, tonnetz))\n",
    "    return result"
   ]
  },
  {
   "cell_type": "code",
   "execution_count": null,
   "metadata": {},
   "outputs": [],
   "source": [
    "file = \"recording.wav\"\n",
    "features = extract_feature(file, mel=True).reshape(1, -1)\n",
    "# predict the gender!\n",
    "male_prob = model.predict(features)[0][0]\n",
    "female_prob = 1 - male_prob\n",
    "gender = \"male\" if male_prob > female_prob else \"female\"\n",
    "# show the result!\n",
    "print(\"Result:\", gender)\n",
    "print(f\"Probabilities::: Male: {male_prob*100:.2f}%    Female: {female_prob*100:.2f}%\")"
   ]
  },
  {
   "attachments": {},
   "cell_type": "markdown",
   "metadata": {},
   "source": []
  }
 ],
 "metadata": {
  "kernelspec": {
   "display_name": "Python 3",
   "language": "python",
   "name": "python3"
  },
  "language_info": {
   "codemirror_mode": {
    "name": "ipython",
    "version": 3
   },
   "file_extension": ".py",
   "mimetype": "text/x-python",
   "name": "python",
   "nbconvert_exporter": "python",
   "pygments_lexer": "ipython3",
   "version": "3.10.0"
  },
  "orig_nbformat": 4
 },
 "nbformat": 4,
 "nbformat_minor": 2
}
